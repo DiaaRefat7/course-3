{
 "cells": [
  {
   "cell_type": "markdown",
   "id": "a79dd76d",
   "metadata": {
    "papermill": {
     "duration": 0.008046,
     "end_time": "2022-07-09T04:08:04.433878",
     "exception": false,
     "start_time": "2022-07-09T04:08:04.425832",
     "status": "completed"
    },
    "tags": []
   },
   "source": [
    "**This notebook is an exercise in the [Pandas](https://www.kaggle.com/learn/pandas) course.  You can reference the tutorial at [this link](https://www.kaggle.com/residentmario/grouping-and-sorting).**\n",
    "\n",
    "---\n"
   ]
  },
  {
   "cell_type": "markdown",
   "id": "0ec91bd6",
   "metadata": {
    "papermill": {
     "duration": 0.006745,
     "end_time": "2022-07-09T04:08:04.447955",
     "exception": false,
     "start_time": "2022-07-09T04:08:04.441210",
     "status": "completed"
    },
    "tags": []
   },
   "source": [
    "# Introduction\n",
    "\n",
    "In these exercises we'll apply groupwise analysis to our dataset.\n",
    "\n",
    "Run the code cell below to load the data before running the exercises."
   ]
  },
  {
   "cell_type": "code",
   "execution_count": 1,
   "id": "0bb26c1c",
   "metadata": {
    "execution": {
     "iopub.execute_input": "2022-07-09T04:08:04.464896Z",
     "iopub.status.busy": "2022-07-09T04:08:04.464135Z",
     "iopub.status.idle": "2022-07-09T04:08:07.357022Z",
     "shell.execute_reply": "2022-07-09T04:08:07.355233Z"
    },
    "papermill": {
     "duration": 2.904733,
     "end_time": "2022-07-09T04:08:07.359915",
     "exception": false,
     "start_time": "2022-07-09T04:08:04.455182",
     "status": "completed"
    },
    "tags": []
   },
   "outputs": [
    {
     "name": "stdout",
     "output_type": "stream",
     "text": [
      "Setup complete.\n"
     ]
    }
   ],
   "source": [
    "import pandas as pd\n",
    "\n",
    "reviews = pd.read_csv(\"../input/wine-reviews/winemag-data-130k-v2.csv\", index_col=0)\n",
    "#pd.set_option(\"display.max_rows\", 5)\n",
    "\n",
    "from learntools.core import binder; binder.bind(globals())\n",
    "from learntools.pandas.grouping_and_sorting import *\n",
    "print(\"Setup complete.\")"
   ]
  },
  {
   "cell_type": "markdown",
   "id": "05cdb2af",
   "metadata": {
    "papermill": {
     "duration": 0.006527,
     "end_time": "2022-07-09T04:08:07.373526",
     "exception": false,
     "start_time": "2022-07-09T04:08:07.366999",
     "status": "completed"
    },
    "tags": []
   },
   "source": [
    "# Exercises"
   ]
  },
  {
   "cell_type": "markdown",
   "id": "b59b4750",
   "metadata": {
    "papermill": {
     "duration": 0.006638,
     "end_time": "2022-07-09T04:08:07.386958",
     "exception": false,
     "start_time": "2022-07-09T04:08:07.380320",
     "status": "completed"
    },
    "tags": []
   },
   "source": [
    "## 1.\n",
    "Who are the most common wine reviewers in the dataset? Create a `Series` whose index is the `taster_twitter_handle` category from the dataset, and whose values count how many reviews each person wrote."
   ]
  },
  {
   "cell_type": "markdown",
   "id": "fab6359d",
   "metadata": {
    "papermill": {
     "duration": 0.006716,
     "end_time": "2022-07-09T04:08:07.400735",
     "exception": false,
     "start_time": "2022-07-09T04:08:07.394019",
     "status": "completed"
    },
    "tags": []
   },
   "source": []
  },
  {
   "cell_type": "code",
   "execution_count": 2,
   "id": "fb672ac8",
   "metadata": {
    "execution": {
     "iopub.execute_input": "2022-07-09T04:08:07.417302Z",
     "iopub.status.busy": "2022-07-09T04:08:07.416032Z",
     "iopub.status.idle": "2022-07-09T04:08:07.457204Z",
     "shell.execute_reply": "2022-07-09T04:08:07.456404Z"
    },
    "papermill": {
     "duration": 0.051405,
     "end_time": "2022-07-09T04:08:07.459251",
     "exception": false,
     "start_time": "2022-07-09T04:08:07.407846",
     "status": "completed"
    },
    "tags": []
   },
   "outputs": [
    {
     "data": {
      "application/javascript": [
       "parent.postMessage({\"jupyterEvent\": \"custom.exercise_interaction\", \"data\": {\"outcomeType\": 1, \"valueTowardsCompletion\": 0.16666666666666666, \"interactionType\": 1, \"questionType\": 1, \"questionId\": \"1_ReviewsWritten\", \"learnToolsVersion\": \"0.3.4\", \"failureMessage\": \"\", \"exceptionClass\": \"\", \"trace\": \"\"}}, \"*\")"
      ],
      "text/plain": [
       "<IPython.core.display.Javascript object>"
      ]
     },
     "metadata": {},
     "output_type": "display_data"
    },
    {
     "data": {
      "text/markdown": [
       "<span style=\"color:#33cc33\">Correct:</span> \n",
       "\n",
       "\n",
       "```python\n",
       "reviews_written = reviews.groupby('taster_twitter_handle').size()\n",
       "```\n",
       "or\n",
       "```python\n",
       "reviews_written = reviews.groupby('taster_twitter_handle').taster_twitter_handle.count()\n",
       "```\n"
      ],
      "text/plain": [
       "Correct: \n",
       "\n",
       "\n",
       "```python\n",
       "reviews_written = reviews.groupby('taster_twitter_handle').size()\n",
       "```\n",
       "or\n",
       "```python\n",
       "reviews_written = reviews.groupby('taster_twitter_handle').taster_twitter_handle.count()\n",
       "```"
      ]
     },
     "metadata": {},
     "output_type": "display_data"
    }
   ],
   "source": [
    "# Your code here\n",
    "reviews_written = reviews.groupby('taster_twitter_handle').taster_twitter_handle.count()\n",
    "\n",
    "# Check your answer\n",
    "q1.check()"
   ]
  },
  {
   "cell_type": "code",
   "execution_count": 3,
   "id": "e8485eeb",
   "metadata": {
    "execution": {
     "iopub.execute_input": "2022-07-09T04:08:07.476063Z",
     "iopub.status.busy": "2022-07-09T04:08:07.475110Z",
     "iopub.status.idle": "2022-07-09T04:08:07.483387Z",
     "shell.execute_reply": "2022-07-09T04:08:07.482643Z"
    },
    "papermill": {
     "duration": 0.018943,
     "end_time": "2022-07-09T04:08:07.485445",
     "exception": false,
     "start_time": "2022-07-09T04:08:07.466502",
     "status": "completed"
    },
    "tags": []
   },
   "outputs": [
    {
     "data": {
      "application/javascript": [
       "parent.postMessage({\"jupyterEvent\": \"custom.exercise_interaction\", \"data\": {\"interactionType\": 2, \"questionType\": 1, \"questionId\": \"1_ReviewsWritten\", \"learnToolsVersion\": \"0.3.4\", \"valueTowardsCompletion\": 0.0, \"failureMessage\": \"\", \"exceptionClass\": \"\", \"trace\": \"\", \"outcomeType\": 4}}, \"*\")"
      ],
      "text/plain": [
       "<IPython.core.display.Javascript object>"
      ]
     },
     "metadata": {},
     "output_type": "display_data"
    },
    {
     "data": {
      "text/markdown": [
       "<span style=\"color:#3366cc\">Hint:</span> Use the `groupby` operation and `size()` (or `count()`)."
      ],
      "text/plain": [
       "Hint: Use the `groupby` operation and `size()` (or `count()`)."
      ]
     },
     "metadata": {},
     "output_type": "display_data"
    }
   ],
   "source": [
    "q1.hint()\n",
    "#q1.solution()"
   ]
  },
  {
   "cell_type": "markdown",
   "id": "5abfa77e",
   "metadata": {
    "papermill": {
     "duration": 0.008706,
     "end_time": "2022-07-09T04:08:07.503639",
     "exception": false,
     "start_time": "2022-07-09T04:08:07.494933",
     "status": "completed"
    },
    "tags": []
   },
   "source": [
    "## 2.\n",
    "What is the best wine I can buy for a given amount of money? Create a `Series` whose index is wine prices and whose values is the maximum number of points a wine costing that much was given in a review. Sort the values by price, ascending (so that `4.0` dollars is at the top and `3300.0` dollars is at the bottom)."
   ]
  },
  {
   "cell_type": "code",
   "execution_count": 4,
   "id": "3751fcae",
   "metadata": {
    "execution": {
     "iopub.execute_input": "2022-07-09T04:08:07.522429Z",
     "iopub.status.busy": "2022-07-09T04:08:07.521497Z",
     "iopub.status.idle": "2022-07-09T04:08:07.536763Z",
     "shell.execute_reply": "2022-07-09T04:08:07.535486Z"
    },
    "papermill": {
     "duration": 0.02638,
     "end_time": "2022-07-09T04:08:07.539133",
     "exception": false,
     "start_time": "2022-07-09T04:08:07.512753",
     "status": "completed"
    },
    "tags": []
   },
   "outputs": [
    {
     "data": {
      "application/javascript": [
       "parent.postMessage({\"jupyterEvent\": \"custom.exercise_interaction\", \"data\": {\"outcomeType\": 1, \"valueTowardsCompletion\": 0.16666666666666666, \"interactionType\": 1, \"questionType\": 1, \"questionId\": \"2_BestRatingPerPrice\", \"learnToolsVersion\": \"0.3.4\", \"failureMessage\": \"\", \"exceptionClass\": \"\", \"trace\": \"\"}}, \"*\")"
      ],
      "text/plain": [
       "<IPython.core.display.Javascript object>"
      ]
     },
     "metadata": {},
     "output_type": "display_data"
    },
    {
     "data": {
      "text/markdown": [
       "<span style=\"color:#33cc33\">Correct</span>"
      ],
      "text/plain": [
       "Correct"
      ]
     },
     "metadata": {},
     "output_type": "display_data"
    }
   ],
   "source": [
    "best_rating_per_price = reviews.groupby('price')['points'].max().sort_index()\n",
    "\n",
    "# Check your answer\n",
    "q2.check()"
   ]
  },
  {
   "cell_type": "code",
   "execution_count": 5,
   "id": "d4176d20",
   "metadata": {
    "execution": {
     "iopub.execute_input": "2022-07-09T04:08:07.557372Z",
     "iopub.status.busy": "2022-07-09T04:08:07.556360Z",
     "iopub.status.idle": "2022-07-09T04:08:07.560963Z",
     "shell.execute_reply": "2022-07-09T04:08:07.560132Z"
    },
    "papermill": {
     "duration": 0.016243,
     "end_time": "2022-07-09T04:08:07.563124",
     "exception": false,
     "start_time": "2022-07-09T04:08:07.546881",
     "status": "completed"
    },
    "tags": []
   },
   "outputs": [],
   "source": [
    "#q2.hint()\n",
    "#q2.solution()"
   ]
  },
  {
   "cell_type": "markdown",
   "id": "7073033c",
   "metadata": {
    "papermill": {
     "duration": 0.007507,
     "end_time": "2022-07-09T04:08:07.578661",
     "exception": false,
     "start_time": "2022-07-09T04:08:07.571154",
     "status": "completed"
    },
    "tags": []
   },
   "source": [
    "## 3.\n",
    "What are the minimum and maximum prices for each `variety` of wine? Create a `DataFrame` whose index is the `variety` category from the dataset and whose values are the `min` and `max` values thereof."
   ]
  },
  {
   "cell_type": "code",
   "execution_count": 6,
   "id": "93e38302",
   "metadata": {
    "execution": {
     "iopub.execute_input": "2022-07-09T04:08:07.596983Z",
     "iopub.status.busy": "2022-07-09T04:08:07.595869Z",
     "iopub.status.idle": "2022-07-09T04:08:07.627232Z",
     "shell.execute_reply": "2022-07-09T04:08:07.626411Z"
    },
    "papermill": {
     "duration": 0.042602,
     "end_time": "2022-07-09T04:08:07.629353",
     "exception": false,
     "start_time": "2022-07-09T04:08:07.586751",
     "status": "completed"
    },
    "tags": []
   },
   "outputs": [
    {
     "data": {
      "application/javascript": [
       "parent.postMessage({\"jupyterEvent\": \"custom.exercise_interaction\", \"data\": {\"outcomeType\": 1, \"valueTowardsCompletion\": 0.16666666666666666, \"interactionType\": 1, \"questionType\": 1, \"questionId\": \"3_PriceExtremes\", \"learnToolsVersion\": \"0.3.4\", \"failureMessage\": \"\", \"exceptionClass\": \"\", \"trace\": \"\"}}, \"*\")"
      ],
      "text/plain": [
       "<IPython.core.display.Javascript object>"
      ]
     },
     "metadata": {},
     "output_type": "display_data"
    },
    {
     "data": {
      "text/markdown": [
       "<span style=\"color:#33cc33\">Correct</span>"
      ],
      "text/plain": [
       "Correct"
      ]
     },
     "metadata": {},
     "output_type": "display_data"
    }
   ],
   "source": [
    "price_extremes = reviews.groupby(['variety']).price.agg([min, max])\n",
    "\n",
    "# Check your answer\n",
    "q3.check()"
   ]
  },
  {
   "cell_type": "code",
   "execution_count": 7,
   "id": "7af03f26",
   "metadata": {
    "execution": {
     "iopub.execute_input": "2022-07-09T04:08:07.648169Z",
     "iopub.status.busy": "2022-07-09T04:08:07.647458Z",
     "iopub.status.idle": "2022-07-09T04:08:07.651472Z",
     "shell.execute_reply": "2022-07-09T04:08:07.650527Z"
    },
    "papermill": {
     "duration": 0.016019,
     "end_time": "2022-07-09T04:08:07.653824",
     "exception": false,
     "start_time": "2022-07-09T04:08:07.637805",
     "status": "completed"
    },
    "tags": []
   },
   "outputs": [],
   "source": [
    "#q3.hint()\n",
    "#q3.solution()"
   ]
  },
  {
   "cell_type": "markdown",
   "id": "a8617b60",
   "metadata": {
    "papermill": {
     "duration": 0.007657,
     "end_time": "2022-07-09T04:08:07.669546",
     "exception": false,
     "start_time": "2022-07-09T04:08:07.661889",
     "status": "completed"
    },
    "tags": []
   },
   "source": [
    "## 4.\n",
    "What are the most expensive wine varieties? Create a variable `sorted_varieties` containing a copy of the dataframe from the previous question where varieties are sorted in descending order based on minimum price, then on maximum price (to break ties)."
   ]
  },
  {
   "cell_type": "code",
   "execution_count": 8,
   "id": "8f991406",
   "metadata": {
    "execution": {
     "iopub.execute_input": "2022-07-09T04:08:07.690014Z",
     "iopub.status.busy": "2022-07-09T04:08:07.689257Z",
     "iopub.status.idle": "2022-07-09T04:08:07.699810Z",
     "shell.execute_reply": "2022-07-09T04:08:07.698905Z"
    },
    "papermill": {
     "duration": 0.023755,
     "end_time": "2022-07-09T04:08:07.701901",
     "exception": false,
     "start_time": "2022-07-09T04:08:07.678146",
     "status": "completed"
    },
    "tags": []
   },
   "outputs": [
    {
     "data": {
      "application/javascript": [
       "parent.postMessage({\"jupyterEvent\": \"custom.exercise_interaction\", \"data\": {\"outcomeType\": 1, \"valueTowardsCompletion\": 0.16666666666666666, \"interactionType\": 1, \"questionType\": 1, \"questionId\": \"4_SortedVarieties\", \"learnToolsVersion\": \"0.3.4\", \"failureMessage\": \"\", \"exceptionClass\": \"\", \"trace\": \"\"}}, \"*\")"
      ],
      "text/plain": [
       "<IPython.core.display.Javascript object>"
      ]
     },
     "metadata": {},
     "output_type": "display_data"
    },
    {
     "data": {
      "text/markdown": [
       "<span style=\"color:#33cc33\">Correct</span>"
      ],
      "text/plain": [
       "Correct"
      ]
     },
     "metadata": {},
     "output_type": "display_data"
    }
   ],
   "source": [
    "sorted_varieties = price_extremes.sort_values(by=['min', 'max'], ascending=False)\n",
    "\n",
    "# Check your answer\n",
    "q4.check()"
   ]
  },
  {
   "cell_type": "code",
   "execution_count": 9,
   "id": "23bdcb4d",
   "metadata": {
    "execution": {
     "iopub.execute_input": "2022-07-09T04:08:07.723064Z",
     "iopub.status.busy": "2022-07-09T04:08:07.722270Z",
     "iopub.status.idle": "2022-07-09T04:08:07.726434Z",
     "shell.execute_reply": "2022-07-09T04:08:07.725542Z"
    },
    "papermill": {
     "duration": 0.018003,
     "end_time": "2022-07-09T04:08:07.728677",
     "exception": false,
     "start_time": "2022-07-09T04:08:07.710674",
     "status": "completed"
    },
    "tags": []
   },
   "outputs": [],
   "source": [
    "#q4.hint()\n",
    "#q4.solution()"
   ]
  },
  {
   "cell_type": "markdown",
   "id": "dd6e9159",
   "metadata": {
    "papermill": {
     "duration": 0.008071,
     "end_time": "2022-07-09T04:08:07.745458",
     "exception": false,
     "start_time": "2022-07-09T04:08:07.737387",
     "status": "completed"
    },
    "tags": []
   },
   "source": [
    "## 5.\n",
    "Create a `Series` whose index is reviewers and whose values is the average review score given out by that reviewer. Hint: you will need the `taster_name` and `points` columns."
   ]
  },
  {
   "cell_type": "code",
   "execution_count": 10,
   "id": "007370ec",
   "metadata": {
    "execution": {
     "iopub.execute_input": "2022-07-09T04:08:07.764432Z",
     "iopub.status.busy": "2022-07-09T04:08:07.763678Z",
     "iopub.status.idle": "2022-07-09T04:08:07.792774Z",
     "shell.execute_reply": "2022-07-09T04:08:07.791439Z"
    },
    "papermill": {
     "duration": 0.041346,
     "end_time": "2022-07-09T04:08:07.795209",
     "exception": false,
     "start_time": "2022-07-09T04:08:07.753863",
     "status": "completed"
    },
    "tags": []
   },
   "outputs": [
    {
     "data": {
      "application/javascript": [
       "parent.postMessage({\"jupyterEvent\": \"custom.exercise_interaction\", \"data\": {\"outcomeType\": 1, \"valueTowardsCompletion\": 0.16666666666666666, \"interactionType\": 1, \"questionType\": 1, \"questionId\": \"5_ReviewerMeanRatings\", \"learnToolsVersion\": \"0.3.4\", \"failureMessage\": \"\", \"exceptionClass\": \"\", \"trace\": \"\"}}, \"*\")"
      ],
      "text/plain": [
       "<IPython.core.display.Javascript object>"
      ]
     },
     "metadata": {},
     "output_type": "display_data"
    },
    {
     "data": {
      "text/markdown": [
       "<span style=\"color:#33cc33\">Correct</span>"
      ],
      "text/plain": [
       "Correct"
      ]
     },
     "metadata": {},
     "output_type": "display_data"
    }
   ],
   "source": [
    "reviewer_mean_ratings = reviews.groupby(['taster_name']).points.mean()\n",
    "\n",
    "# Check your answer\n",
    "q5.check()"
   ]
  },
  {
   "cell_type": "code",
   "execution_count": 11,
   "id": "1e6c1df6",
   "metadata": {
    "execution": {
     "iopub.execute_input": "2022-07-09T04:08:07.815735Z",
     "iopub.status.busy": "2022-07-09T04:08:07.814916Z",
     "iopub.status.idle": "2022-07-09T04:08:07.819049Z",
     "shell.execute_reply": "2022-07-09T04:08:07.818196Z"
    },
    "papermill": {
     "duration": 0.017444,
     "end_time": "2022-07-09T04:08:07.821458",
     "exception": false,
     "start_time": "2022-07-09T04:08:07.804014",
     "status": "completed"
    },
    "tags": []
   },
   "outputs": [],
   "source": [
    "#q5.hint()\n",
    "#q5.solution()"
   ]
  },
  {
   "cell_type": "markdown",
   "id": "a2caf22b",
   "metadata": {
    "papermill": {
     "duration": 0.010229,
     "end_time": "2022-07-09T04:08:07.842158",
     "exception": false,
     "start_time": "2022-07-09T04:08:07.831929",
     "status": "completed"
    },
    "tags": []
   },
   "source": [
    "Are there significant differences in the average scores assigned by the various reviewers? Run the cell below to use the `describe()` method to see a summary of the range of values."
   ]
  },
  {
   "cell_type": "code",
   "execution_count": 12,
   "id": "bfc7c6fa",
   "metadata": {
    "execution": {
     "iopub.execute_input": "2022-07-09T04:08:07.865063Z",
     "iopub.status.busy": "2022-07-09T04:08:07.864290Z",
     "iopub.status.idle": "2022-07-09T04:08:07.877270Z",
     "shell.execute_reply": "2022-07-09T04:08:07.876417Z"
    },
    "papermill": {
     "duration": 0.027079,
     "end_time": "2022-07-09T04:08:07.879659",
     "exception": false,
     "start_time": "2022-07-09T04:08:07.852580",
     "status": "completed"
    },
    "tags": []
   },
   "outputs": [
    {
     "data": {
      "text/plain": [
       "count    19.000000\n",
       "mean     88.233026\n",
       "std       1.243610\n",
       "min      85.855422\n",
       "25%      87.323501\n",
       "50%      88.536235\n",
       "75%      88.975256\n",
       "max      90.562551\n",
       "Name: points, dtype: float64"
      ]
     },
     "execution_count": 12,
     "metadata": {},
     "output_type": "execute_result"
    }
   ],
   "source": [
    "reviewer_mean_ratings.describe()"
   ]
  },
  {
   "cell_type": "markdown",
   "id": "416849ea",
   "metadata": {
    "papermill": {
     "duration": 0.008413,
     "end_time": "2022-07-09T04:08:07.897289",
     "exception": false,
     "start_time": "2022-07-09T04:08:07.888876",
     "status": "completed"
    },
    "tags": []
   },
   "source": [
    "## 6.\n",
    "What combination of countries and varieties are most common? Create a `Series` whose index is a `MultiIndex`of `{country, variety}` pairs. For example, a pinot noir produced in the US should map to `{\"US\", \"Pinot Noir\"}`. Sort the values in the `Series` in descending order based on wine count."
   ]
  },
  {
   "cell_type": "code",
   "execution_count": 13,
   "id": "a72f8fcd",
   "metadata": {
    "execution": {
     "iopub.execute_input": "2022-07-09T04:08:07.916956Z",
     "iopub.status.busy": "2022-07-09T04:08:07.916197Z",
     "iopub.status.idle": "2022-07-09T04:08:07.964279Z",
     "shell.execute_reply": "2022-07-09T04:08:07.963426Z"
    },
    "papermill": {
     "duration": 0.060534,
     "end_time": "2022-07-09T04:08:07.966566",
     "exception": false,
     "start_time": "2022-07-09T04:08:07.906032",
     "status": "completed"
    },
    "tags": []
   },
   "outputs": [
    {
     "data": {
      "application/javascript": [
       "parent.postMessage({\"jupyterEvent\": \"custom.exercise_interaction\", \"data\": {\"outcomeType\": 1, \"valueTowardsCompletion\": 0.16666666666666666, \"interactionType\": 1, \"questionType\": 1, \"questionId\": \"6_GroupbyCountryVariety\", \"learnToolsVersion\": \"0.3.4\", \"failureMessage\": \"\", \"exceptionClass\": \"\", \"trace\": \"\"}}, \"*\")"
      ],
      "text/plain": [
       "<IPython.core.display.Javascript object>"
      ]
     },
     "metadata": {},
     "output_type": "display_data"
    },
    {
     "data": {
      "text/markdown": [
       "<span style=\"color:#33cc33\">Correct</span>"
      ],
      "text/plain": [
       "Correct"
      ]
     },
     "metadata": {},
     "output_type": "display_data"
    }
   ],
   "source": [
    "country_variety_counts = reviews.groupby(['country', 'variety']).size().sort_values(ascending=False)\n",
    "\n",
    "# Check your answer\n",
    "q6.check()"
   ]
  },
  {
   "cell_type": "code",
   "execution_count": 14,
   "id": "a59bd5b2",
   "metadata": {
    "execution": {
     "iopub.execute_input": "2022-07-09T04:08:07.986989Z",
     "iopub.status.busy": "2022-07-09T04:08:07.986257Z",
     "iopub.status.idle": "2022-07-09T04:08:07.999232Z",
     "shell.execute_reply": "2022-07-09T04:08:07.998123Z"
    },
    "papermill": {
     "duration": 0.025782,
     "end_time": "2022-07-09T04:08:08.001344",
     "exception": false,
     "start_time": "2022-07-09T04:08:07.975562",
     "status": "completed"
    },
    "tags": []
   },
   "outputs": [
    {
     "data": {
      "application/javascript": [
       "parent.postMessage({\"jupyterEvent\": \"custom.exercise_interaction\", \"data\": {\"interactionType\": 2, \"questionType\": 1, \"questionId\": \"6_GroupbyCountryVariety\", \"learnToolsVersion\": \"0.3.4\", \"valueTowardsCompletion\": 0.0, \"failureMessage\": \"\", \"exceptionClass\": \"\", \"trace\": \"\", \"outcomeType\": 4}}, \"*\")"
      ],
      "text/plain": [
       "<IPython.core.display.Javascript object>"
      ]
     },
     "metadata": {},
     "output_type": "display_data"
    },
    {
     "data": {
      "text/markdown": [
       "<span style=\"color:#3366cc\">Hint:</span> Use `groupby()`, and provide a list of columns to group by.  You may also find `size()` and `sort_values()` to be useful!"
      ],
      "text/plain": [
       "Hint: Use `groupby()`, and provide a list of columns to group by.  You may also find `size()` and `sort_values()` to be useful!"
      ]
     },
     "metadata": {},
     "output_type": "display_data"
    },
    {
     "data": {
      "application/javascript": [
       "parent.postMessage({\"jupyterEvent\": \"custom.exercise_interaction\", \"data\": {\"interactionType\": 3, \"questionType\": 1, \"questionId\": \"6_GroupbyCountryVariety\", \"learnToolsVersion\": \"0.3.4\", \"valueTowardsCompletion\": 0.0, \"failureMessage\": \"\", \"exceptionClass\": \"\", \"trace\": \"\", \"outcomeType\": 4}}, \"*\")"
      ],
      "text/plain": [
       "<IPython.core.display.Javascript object>"
      ]
     },
     "metadata": {},
     "output_type": "display_data"
    },
    {
     "data": {
      "text/markdown": [
       "<span style=\"color:#33cc99\">Solution:</span> \n",
       "```python\n",
       "country_variety_counts = reviews.groupby(['country', 'variety']).size().sort_values(ascending=False)\n",
       "```"
      ],
      "text/plain": [
       "Solution: \n",
       "```python\n",
       "country_variety_counts = reviews.groupby(['country', 'variety']).size().sort_values(ascending=False)\n",
       "```"
      ]
     },
     "metadata": {},
     "output_type": "display_data"
    }
   ],
   "source": [
    "q6.hint()\n",
    "q6.solution()"
   ]
  },
  {
   "cell_type": "markdown",
   "id": "9a6fe4e2",
   "metadata": {
    "papermill": {
     "duration": 0.009202,
     "end_time": "2022-07-09T04:08:08.019960",
     "exception": false,
     "start_time": "2022-07-09T04:08:08.010758",
     "status": "completed"
    },
    "tags": []
   },
   "source": [
    "# Keep going\n",
    "\n",
    "Move on to the [**data types and missing data**](https://www.kaggle.com/residentmario/data-types-and-missing-values)."
   ]
  },
  {
   "cell_type": "markdown",
   "id": "11ad4d98",
   "metadata": {
    "papermill": {
     "duration": 0.00911,
     "end_time": "2022-07-09T04:08:08.038556",
     "exception": false,
     "start_time": "2022-07-09T04:08:08.029446",
     "status": "completed"
    },
    "tags": []
   },
   "source": [
    "---\n",
    "\n",
    "\n",
    "\n",
    "\n",
    "*Have questions or comments? Visit the [course discussion forum](https://www.kaggle.com/learn/pandas/discussion) to chat with other learners.*"
   ]
  }
 ],
 "metadata": {
  "kernelspec": {
   "display_name": "Python 3",
   "language": "python",
   "name": "python3"
  },
  "language_info": {
   "codemirror_mode": {
    "name": "ipython",
    "version": 3
   },
   "file_extension": ".py",
   "mimetype": "text/x-python",
   "name": "python",
   "nbconvert_exporter": "python",
   "pygments_lexer": "ipython3",
   "version": "3.7.12"
  },
  "papermill": {
   "default_parameters": {},
   "duration": 14.510757,
   "end_time": "2022-07-09T04:08:08.771200",
   "environment_variables": {},
   "exception": null,
   "input_path": "__notebook__.ipynb",
   "output_path": "__notebook__.ipynb",
   "parameters": {},
   "start_time": "2022-07-09T04:07:54.260443",
   "version": "2.3.4"
  }
 },
 "nbformat": 4,
 "nbformat_minor": 5
}

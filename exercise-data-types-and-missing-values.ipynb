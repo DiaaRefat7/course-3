{
 "cells": [
  {
   "cell_type": "markdown",
   "id": "2e7a8078",
   "metadata": {
    "papermill": {
     "duration": 0.005673,
     "end_time": "2022-07-09T04:10:54.937601",
     "exception": false,
     "start_time": "2022-07-09T04:10:54.931928",
     "status": "completed"
    },
    "tags": []
   },
   "source": [
    "**This notebook is an exercise in the [Pandas](https://www.kaggle.com/learn/pandas) course.  You can reference the tutorial at [this link](https://www.kaggle.com/residentmario/data-types-and-missing-values).**\n",
    "\n",
    "---\n"
   ]
  },
  {
   "cell_type": "markdown",
   "id": "3af596ce",
   "metadata": {
    "papermill": {
     "duration": 0.004836,
     "end_time": "2022-07-09T04:10:54.947182",
     "exception": false,
     "start_time": "2022-07-09T04:10:54.942346",
     "status": "completed"
    },
    "tags": []
   },
   "source": [
    "# Introduction\n",
    "\n",
    "Run the following cell to load your data and some utility functions."
   ]
  },
  {
   "cell_type": "code",
   "execution_count": 1,
   "id": "b6854b57",
   "metadata": {
    "execution": {
     "iopub.execute_input": "2022-07-09T04:10:54.959602Z",
     "iopub.status.busy": "2022-07-09T04:10:54.958563Z",
     "iopub.status.idle": "2022-07-09T04:10:57.954398Z",
     "shell.execute_reply": "2022-07-09T04:10:57.953087Z"
    },
    "papermill": {
     "duration": 3.005145,
     "end_time": "2022-07-09T04:10:57.957101",
     "exception": false,
     "start_time": "2022-07-09T04:10:54.951956",
     "status": "completed"
    },
    "tags": []
   },
   "outputs": [
    {
     "name": "stdout",
     "output_type": "stream",
     "text": [
      "Setup complete.\n"
     ]
    }
   ],
   "source": [
    "import pandas as pd\n",
    "\n",
    "reviews = pd.read_csv(\"../input/wine-reviews/winemag-data-130k-v2.csv\", index_col=0)\n",
    "\n",
    "from learntools.core import binder; binder.bind(globals())\n",
    "from learntools.pandas.data_types_and_missing_data import *\n",
    "print(\"Setup complete.\")"
   ]
  },
  {
   "cell_type": "markdown",
   "id": "0e3dff19",
   "metadata": {
    "papermill": {
     "duration": 0.004472,
     "end_time": "2022-07-09T04:10:57.966345",
     "exception": false,
     "start_time": "2022-07-09T04:10:57.961873",
     "status": "completed"
    },
    "tags": []
   },
   "source": [
    "# Exercises"
   ]
  },
  {
   "cell_type": "markdown",
   "id": "1ca845dd",
   "metadata": {
    "papermill": {
     "duration": 0.004424,
     "end_time": "2022-07-09T04:10:57.975998",
     "exception": false,
     "start_time": "2022-07-09T04:10:57.971574",
     "status": "completed"
    },
    "tags": []
   },
   "source": [
    "## 1. \n",
    "What is the data type of the `points` column in the dataset?"
   ]
  },
  {
   "cell_type": "code",
   "execution_count": 2,
   "id": "bb331880",
   "metadata": {
    "execution": {
     "iopub.execute_input": "2022-07-09T04:10:57.988530Z",
     "iopub.status.busy": "2022-07-09T04:10:57.987402Z",
     "iopub.status.idle": "2022-07-09T04:10:58.000524Z",
     "shell.execute_reply": "2022-07-09T04:10:57.999306Z"
    },
    "papermill": {
     "duration": 0.022799,
     "end_time": "2022-07-09T04:10:58.003459",
     "exception": false,
     "start_time": "2022-07-09T04:10:57.980660",
     "status": "completed"
    },
    "tags": []
   },
   "outputs": [
    {
     "data": {
      "application/javascript": [
       "parent.postMessage({\"jupyterEvent\": \"custom.exercise_interaction\", \"data\": {\"outcomeType\": 4, \"interactionType\": 1, \"questionType\": 1, \"questionId\": \"1_PointsDtype\", \"learnToolsVersion\": \"0.3.4\", \"valueTowardsCompletion\": 0.0, \"failureMessage\": \"\", \"exceptionClass\": \"\", \"trace\": \"\"}}, \"*\")"
      ],
      "text/plain": [
       "<IPython.core.display.Javascript object>"
      ]
     },
     "metadata": {},
     "output_type": "display_data"
    },
    {
     "data": {
      "text/markdown": [
       "<span style=\"color:#ccaa33\">Check:</span> When you've updated the starter code, `check()` will tell you whether your code is correct. You need to update the code that creates variable `dtype`"
      ],
      "text/plain": [
       "Check: When you've updated the starter code, `check()` will tell you whether your code is correct. You need to update the code that creates variable `dtype`"
      ]
     },
     "metadata": {},
     "output_type": "display_data"
    }
   ],
   "source": [
    "# Your code here\n",
    "dtype = ____\n",
    "\n",
    "# Check your answer\n",
    "q1.check()"
   ]
  },
  {
   "cell_type": "code",
   "execution_count": 3,
   "id": "4289a001",
   "metadata": {
    "execution": {
     "iopub.execute_input": "2022-07-09T04:10:58.015643Z",
     "iopub.status.busy": "2022-07-09T04:10:58.015255Z",
     "iopub.status.idle": "2022-07-09T04:10:58.020155Z",
     "shell.execute_reply": "2022-07-09T04:10:58.018596Z"
    },
    "papermill": {
     "duration": 0.014139,
     "end_time": "2022-07-09T04:10:58.022750",
     "exception": false,
     "start_time": "2022-07-09T04:10:58.008611",
     "status": "completed"
    },
    "tags": []
   },
   "outputs": [],
   "source": [
    "#q1.hint()\n",
    "#q1.solution()"
   ]
  },
  {
   "cell_type": "markdown",
   "id": "b7ba08a7",
   "metadata": {
    "papermill": {
     "duration": 0.004776,
     "end_time": "2022-07-09T04:10:58.032636",
     "exception": false,
     "start_time": "2022-07-09T04:10:58.027860",
     "status": "completed"
    },
    "tags": []
   },
   "source": [
    "## 2. \n",
    "Create a Series from entries in the `points` column, but convert the entries to strings. Hint: strings are `str` in native Python."
   ]
  },
  {
   "cell_type": "code",
   "execution_count": 4,
   "id": "dda5afaa",
   "metadata": {
    "execution": {
     "iopub.execute_input": "2022-07-09T04:10:58.044670Z",
     "iopub.status.busy": "2022-07-09T04:10:58.044288Z",
     "iopub.status.idle": "2022-07-09T04:10:58.054906Z",
     "shell.execute_reply": "2022-07-09T04:10:58.053235Z"
    },
    "papermill": {
     "duration": 0.021858,
     "end_time": "2022-07-09T04:10:58.059511",
     "exception": false,
     "start_time": "2022-07-09T04:10:58.037653",
     "status": "completed"
    },
    "tags": []
   },
   "outputs": [
    {
     "data": {
      "application/javascript": [
       "parent.postMessage({\"jupyterEvent\": \"custom.exercise_interaction\", \"data\": {\"outcomeType\": 4, \"interactionType\": 1, \"questionType\": 1, \"questionId\": \"2_StrPoints\", \"learnToolsVersion\": \"0.3.4\", \"valueTowardsCompletion\": 0.0, \"failureMessage\": \"\", \"exceptionClass\": \"\", \"trace\": \"\"}}, \"*\")"
      ],
      "text/plain": [
       "<IPython.core.display.Javascript object>"
      ]
     },
     "metadata": {},
     "output_type": "display_data"
    },
    {
     "data": {
      "text/markdown": [
       "<span style=\"color:#ccaa33\">Check:</span> When you've updated the starter code, `check()` will tell you whether your code is correct. You need to update the code that creates variable `point_strings`"
      ],
      "text/plain": [
       "Check: When you've updated the starter code, `check()` will tell you whether your code is correct. You need to update the code that creates variable `point_strings`"
      ]
     },
     "metadata": {},
     "output_type": "display_data"
    }
   ],
   "source": [
    "point_strings = ____\n",
    "\n",
    "# Check your answer\n",
    "q2.check()"
   ]
  },
  {
   "cell_type": "code",
   "execution_count": 5,
   "id": "a81f7fe4",
   "metadata": {
    "execution": {
     "iopub.execute_input": "2022-07-09T04:10:58.072561Z",
     "iopub.status.busy": "2022-07-09T04:10:58.072110Z",
     "iopub.status.idle": "2022-07-09T04:10:58.076884Z",
     "shell.execute_reply": "2022-07-09T04:10:58.075688Z"
    },
    "papermill": {
     "duration": 0.014219,
     "end_time": "2022-07-09T04:10:58.079410",
     "exception": false,
     "start_time": "2022-07-09T04:10:58.065191",
     "status": "completed"
    },
    "tags": []
   },
   "outputs": [],
   "source": [
    "#q2.hint()\n",
    "#q2.solution()"
   ]
  },
  {
   "cell_type": "markdown",
   "id": "4450d9e6",
   "metadata": {
    "papermill": {
     "duration": 0.005111,
     "end_time": "2022-07-09T04:10:58.089987",
     "exception": false,
     "start_time": "2022-07-09T04:10:58.084876",
     "status": "completed"
    },
    "tags": []
   },
   "source": [
    "## 3.\n",
    "Sometimes the price column is null. How many reviews in the dataset are missing a price?"
   ]
  },
  {
   "cell_type": "code",
   "execution_count": 6,
   "id": "8c901d88",
   "metadata": {
    "execution": {
     "iopub.execute_input": "2022-07-09T04:10:58.102299Z",
     "iopub.status.busy": "2022-07-09T04:10:58.101908Z",
     "iopub.status.idle": "2022-07-09T04:10:58.112440Z",
     "shell.execute_reply": "2022-07-09T04:10:58.111121Z"
    },
    "papermill": {
     "duration": 0.019653,
     "end_time": "2022-07-09T04:10:58.114917",
     "exception": false,
     "start_time": "2022-07-09T04:10:58.095264",
     "status": "completed"
    },
    "tags": []
   },
   "outputs": [
    {
     "data": {
      "application/javascript": [
       "parent.postMessage({\"jupyterEvent\": \"custom.exercise_interaction\", \"data\": {\"outcomeType\": 4, \"interactionType\": 1, \"questionType\": 1, \"questionId\": \"3_CountMissingPrices\", \"learnToolsVersion\": \"0.3.4\", \"valueTowardsCompletion\": 0.0, \"failureMessage\": \"\", \"exceptionClass\": \"\", \"trace\": \"\"}}, \"*\")"
      ],
      "text/plain": [
       "<IPython.core.display.Javascript object>"
      ]
     },
     "metadata": {},
     "output_type": "display_data"
    },
    {
     "data": {
      "text/markdown": [
       "<span style=\"color:#ccaa33\">Check:</span> When you've updated the starter code, `check()` will tell you whether your code is correct. You need to update the code that creates variable `n_missing_prices`"
      ],
      "text/plain": [
       "Check: When you've updated the starter code, `check()` will tell you whether your code is correct. You need to update the code that creates variable `n_missing_prices`"
      ]
     },
     "metadata": {},
     "output_type": "display_data"
    }
   ],
   "source": [
    "n_missing_prices = ____\n",
    "\n",
    "# Check your answer\n",
    "q3.check()"
   ]
  },
  {
   "cell_type": "code",
   "execution_count": 7,
   "id": "00caeb94",
   "metadata": {
    "execution": {
     "iopub.execute_input": "2022-07-09T04:10:58.128563Z",
     "iopub.status.busy": "2022-07-09T04:10:58.128183Z",
     "iopub.status.idle": "2022-07-09T04:10:58.131649Z",
     "shell.execute_reply": "2022-07-09T04:10:58.130797Z"
    },
    "papermill": {
     "duration": 0.013418,
     "end_time": "2022-07-09T04:10:58.134100",
     "exception": false,
     "start_time": "2022-07-09T04:10:58.120682",
     "status": "completed"
    },
    "tags": []
   },
   "outputs": [],
   "source": [
    "#q3.hint()\n",
    "#q3.solution()"
   ]
  },
  {
   "cell_type": "markdown",
   "id": "6648c26a",
   "metadata": {
    "papermill": {
     "duration": 0.005653,
     "end_time": "2022-07-09T04:10:58.146210",
     "exception": false,
     "start_time": "2022-07-09T04:10:58.140557",
     "status": "completed"
    },
    "tags": []
   },
   "source": [
    "## 4.\n",
    "What are the most common wine-producing regions? Create a Series counting the number of times each value occurs in the `region_1` field. This field is often missing data, so replace missing values with `Unknown`. Sort in descending order.  Your output should look something like this:\n",
    "\n",
    "```\n",
    "Unknown                    21247\n",
    "Napa Valley                 4480\n",
    "                           ...  \n",
    "Bardolino Superiore            1\n",
    "Primitivo del Tarantino        1\n",
    "Name: region_1, Length: 1230, dtype: int64\n",
    "```"
   ]
  },
  {
   "cell_type": "code",
   "execution_count": 8,
   "id": "b38a4680",
   "metadata": {
    "execution": {
     "iopub.execute_input": "2022-07-09T04:10:58.160068Z",
     "iopub.status.busy": "2022-07-09T04:10:58.159237Z",
     "iopub.status.idle": "2022-07-09T04:10:58.167479Z",
     "shell.execute_reply": "2022-07-09T04:10:58.166256Z"
    },
    "papermill": {
     "duration": 0.017975,
     "end_time": "2022-07-09T04:10:58.169944",
     "exception": false,
     "start_time": "2022-07-09T04:10:58.151969",
     "status": "completed"
    },
    "tags": []
   },
   "outputs": [
    {
     "data": {
      "application/javascript": [
       "parent.postMessage({\"jupyterEvent\": \"custom.exercise_interaction\", \"data\": {\"outcomeType\": 4, \"interactionType\": 1, \"questionType\": 2, \"questionId\": \"4_ReviewsPerRegion\", \"learnToolsVersion\": \"0.3.4\", \"valueTowardsCompletion\": 0.0, \"failureMessage\": \"\", \"exceptionClass\": \"\", \"trace\": \"\"}}, \"*\")"
      ],
      "text/plain": [
       "<IPython.core.display.Javascript object>"
      ]
     },
     "metadata": {},
     "output_type": "display_data"
    },
    {
     "data": {
      "text/markdown": [
       "<span style=\"color:#ccaa33\">Check:</span> When you've updated the starter code, `check()` will tell you whether your code is correct. You need to update the code that creates variable `reviews_per_region`"
      ],
      "text/plain": [
       "Check: When you've updated the starter code, `check()` will tell you whether your code is correct. You need to update the code that creates variable `reviews_per_region`"
      ]
     },
     "metadata": {},
     "output_type": "display_data"
    }
   ],
   "source": [
    "reviews_per_region = ____\n",
    "\n",
    "# Check your answer\n",
    "q4.check()"
   ]
  },
  {
   "cell_type": "code",
   "execution_count": 9,
   "id": "73c74cd3",
   "metadata": {
    "execution": {
     "iopub.execute_input": "2022-07-09T04:10:58.184450Z",
     "iopub.status.busy": "2022-07-09T04:10:58.184004Z",
     "iopub.status.idle": "2022-07-09T04:10:58.188215Z",
     "shell.execute_reply": "2022-07-09T04:10:58.187325Z"
    },
    "papermill": {
     "duration": 0.014316,
     "end_time": "2022-07-09T04:10:58.190485",
     "exception": false,
     "start_time": "2022-07-09T04:10:58.176169",
     "status": "completed"
    },
    "tags": []
   },
   "outputs": [],
   "source": [
    "#q4.hint()\n",
    "#q4.solution()"
   ]
  },
  {
   "cell_type": "markdown",
   "id": "588e873c",
   "metadata": {
    "papermill": {
     "duration": 0.005938,
     "end_time": "2022-07-09T04:10:58.203411",
     "exception": false,
     "start_time": "2022-07-09T04:10:58.197473",
     "status": "completed"
    },
    "tags": []
   },
   "source": [
    "# Keep going\n",
    "\n",
    "Move on to **[renaming and combining](https://www.kaggle.com/residentmario/renaming-and-combining)**."
   ]
  },
  {
   "cell_type": "markdown",
   "id": "774b9e1a",
   "metadata": {
    "papermill": {
     "duration": 0.005763,
     "end_time": "2022-07-09T04:10:58.215255",
     "exception": false,
     "start_time": "2022-07-09T04:10:58.209492",
     "status": "completed"
    },
    "tags": []
   },
   "source": [
    "---\n",
    "\n",
    "\n",
    "\n",
    "\n",
    "*Have questions or comments? Visit the [course discussion forum](https://www.kaggle.com/learn/pandas/discussion) to chat with other learners.*"
   ]
  }
 ],
 "metadata": {
  "kernelspec": {
   "display_name": "Python 3",
   "language": "python",
   "name": "python3"
  },
  "language_info": {
   "codemirror_mode": {
    "name": "ipython",
    "version": 3
   },
   "file_extension": ".py",
   "mimetype": "text/x-python",
   "name": "python",
   "nbconvert_exporter": "python",
   "pygments_lexer": "ipython3",
   "version": "3.7.12"
  },
  "papermill": {
   "default_parameters": {},
   "duration": 15.138353,
   "end_time": "2022-07-09T04:10:58.943525",
   "environment_variables": {},
   "exception": null,
   "input_path": "__notebook__.ipynb",
   "output_path": "__notebook__.ipynb",
   "parameters": {},
   "start_time": "2022-07-09T04:10:43.805172",
   "version": "2.3.4"
  }
 },
 "nbformat": 4,
 "nbformat_minor": 5
}

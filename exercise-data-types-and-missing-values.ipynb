{
 "cells": [
  {
   "cell_type": "markdown",
   "id": "f6bf7948",
   "metadata": {
    "papermill": {
     "duration": 0.008879,
     "end_time": "2022-07-09T04:19:21.132716",
     "exception": false,
     "start_time": "2022-07-09T04:19:21.123837",
     "status": "completed"
    },
    "tags": []
   },
   "source": [
    "**This notebook is an exercise in the [Pandas](https://www.kaggle.com/learn/pandas) course.  You can reference the tutorial at [this link](https://www.kaggle.com/residentmario/data-types-and-missing-values).**\n",
    "\n",
    "---\n"
   ]
  },
  {
   "cell_type": "markdown",
   "id": "5e8524cf",
   "metadata": {
    "papermill": {
     "duration": 0.004592,
     "end_time": "2022-07-09T04:19:21.143694",
     "exception": false,
     "start_time": "2022-07-09T04:19:21.139102",
     "status": "completed"
    },
    "tags": []
   },
   "source": [
    "# Introduction\n",
    "\n",
    "Run the following cell to load your data and some utility functions."
   ]
  },
  {
   "cell_type": "code",
   "execution_count": 1,
   "id": "b7cfe12b",
   "metadata": {
    "execution": {
     "iopub.execute_input": "2022-07-09T04:19:21.156710Z",
     "iopub.status.busy": "2022-07-09T04:19:21.155632Z",
     "iopub.status.idle": "2022-07-09T04:19:24.206891Z",
     "shell.execute_reply": "2022-07-09T04:19:24.205642Z"
    },
    "papermill": {
     "duration": 3.062287,
     "end_time": "2022-07-09T04:19:24.210771",
     "exception": false,
     "start_time": "2022-07-09T04:19:21.148484",
     "status": "completed"
    },
    "tags": []
   },
   "outputs": [
    {
     "name": "stdout",
     "output_type": "stream",
     "text": [
      "Setup complete.\n"
     ]
    }
   ],
   "source": [
    "import pandas as pd\n",
    "\n",
    "reviews = pd.read_csv(\"../input/wine-reviews/winemag-data-130k-v2.csv\", index_col=0)\n",
    "\n",
    "from learntools.core import binder; binder.bind(globals())\n",
    "from learntools.pandas.data_types_and_missing_data import *\n",
    "print(\"Setup complete.\")"
   ]
  },
  {
   "cell_type": "markdown",
   "id": "a10f3e73",
   "metadata": {
    "papermill": {
     "duration": 0.004664,
     "end_time": "2022-07-09T04:19:24.221146",
     "exception": false,
     "start_time": "2022-07-09T04:19:24.216482",
     "status": "completed"
    },
    "tags": []
   },
   "source": [
    "# Exercises"
   ]
  },
  {
   "cell_type": "markdown",
   "id": "8b2408ca",
   "metadata": {
    "papermill": {
     "duration": 0.004651,
     "end_time": "2022-07-09T04:19:24.230858",
     "exception": false,
     "start_time": "2022-07-09T04:19:24.226207",
     "status": "completed"
    },
    "tags": []
   },
   "source": [
    "## 1. \n",
    "What is the data type of the `points` column in the dataset?"
   ]
  },
  {
   "cell_type": "code",
   "execution_count": 2,
   "id": "78a85083",
   "metadata": {
    "execution": {
     "iopub.execute_input": "2022-07-09T04:19:24.242695Z",
     "iopub.status.busy": "2022-07-09T04:19:24.242249Z",
     "iopub.status.idle": "2022-07-09T04:19:24.254338Z",
     "shell.execute_reply": "2022-07-09T04:19:24.253162Z"
    },
    "papermill": {
     "duration": 0.02116,
     "end_time": "2022-07-09T04:19:24.256927",
     "exception": false,
     "start_time": "2022-07-09T04:19:24.235767",
     "status": "completed"
    },
    "tags": []
   },
   "outputs": [
    {
     "data": {
      "application/javascript": [
       "parent.postMessage({\"jupyterEvent\": \"custom.exercise_interaction\", \"data\": {\"outcomeType\": 1, \"valueTowardsCompletion\": 0.25, \"interactionType\": 1, \"questionType\": 1, \"questionId\": \"1_PointsDtype\", \"learnToolsVersion\": \"0.3.4\", \"failureMessage\": \"\", \"exceptionClass\": \"\", \"trace\": \"\"}}, \"*\")"
      ],
      "text/plain": [
       "<IPython.core.display.Javascript object>"
      ]
     },
     "metadata": {},
     "output_type": "display_data"
    },
    {
     "data": {
      "text/markdown": [
       "<span style=\"color:#33cc33\">Correct</span>"
      ],
      "text/plain": [
       "Correct"
      ]
     },
     "metadata": {},
     "output_type": "display_data"
    }
   ],
   "source": [
    "# Your code here\n",
    "dtype = reviews['points'].dtype\n",
    "\n",
    "# Check your answer\n",
    "q1.check()"
   ]
  },
  {
   "cell_type": "code",
   "execution_count": 3,
   "id": "83ce6c75",
   "metadata": {
    "execution": {
     "iopub.execute_input": "2022-07-09T04:19:24.269774Z",
     "iopub.status.busy": "2022-07-09T04:19:24.269098Z",
     "iopub.status.idle": "2022-07-09T04:19:24.273493Z",
     "shell.execute_reply": "2022-07-09T04:19:24.272640Z"
    },
    "papermill": {
     "duration": 0.013313,
     "end_time": "2022-07-09T04:19:24.275681",
     "exception": false,
     "start_time": "2022-07-09T04:19:24.262368",
     "status": "completed"
    },
    "tags": []
   },
   "outputs": [],
   "source": [
    "#q1.hint()\n",
    "#q1.solution()"
   ]
  },
  {
   "cell_type": "markdown",
   "id": "c4e58928",
   "metadata": {
    "papermill": {
     "duration": 0.00499,
     "end_time": "2022-07-09T04:19:24.285937",
     "exception": false,
     "start_time": "2022-07-09T04:19:24.280947",
     "status": "completed"
    },
    "tags": []
   },
   "source": [
    "## 2. \n",
    "Create a Series from entries in the `points` column, but convert the entries to strings. Hint: strings are `str` in native Python."
   ]
  },
  {
   "cell_type": "code",
   "execution_count": 4,
   "id": "59c85846",
   "metadata": {
    "execution": {
     "iopub.execute_input": "2022-07-09T04:19:24.298597Z",
     "iopub.status.busy": "2022-07-09T04:19:24.297928Z",
     "iopub.status.idle": "2022-07-09T04:19:24.434543Z",
     "shell.execute_reply": "2022-07-09T04:19:24.433360Z"
    },
    "papermill": {
     "duration": 0.145778,
     "end_time": "2022-07-09T04:19:24.437021",
     "exception": false,
     "start_time": "2022-07-09T04:19:24.291243",
     "status": "completed"
    },
    "tags": []
   },
   "outputs": [
    {
     "data": {
      "application/javascript": [
       "parent.postMessage({\"jupyterEvent\": \"custom.exercise_interaction\", \"data\": {\"outcomeType\": 1, \"valueTowardsCompletion\": 0.25, \"interactionType\": 1, \"questionType\": 1, \"questionId\": \"2_StrPoints\", \"learnToolsVersion\": \"0.3.4\", \"failureMessage\": \"\", \"exceptionClass\": \"\", \"trace\": \"\"}}, \"*\")"
      ],
      "text/plain": [
       "<IPython.core.display.Javascript object>"
      ]
     },
     "metadata": {},
     "output_type": "display_data"
    },
    {
     "data": {
      "text/markdown": [
       "<span style=\"color:#33cc33\">Correct</span>"
      ],
      "text/plain": [
       "Correct"
      ]
     },
     "metadata": {},
     "output_type": "display_data"
    }
   ],
   "source": [
    "point_strings = reviews.points.astype('str')\n",
    "\n",
    "# Check your answer\n",
    "q2.check()"
   ]
  },
  {
   "cell_type": "code",
   "execution_count": 5,
   "id": "aa00c505",
   "metadata": {
    "execution": {
     "iopub.execute_input": "2022-07-09T04:19:24.450345Z",
     "iopub.status.busy": "2022-07-09T04:19:24.449946Z",
     "iopub.status.idle": "2022-07-09T04:19:24.454725Z",
     "shell.execute_reply": "2022-07-09T04:19:24.453519Z"
    },
    "papermill": {
     "duration": 0.014201,
     "end_time": "2022-07-09T04:19:24.457250",
     "exception": false,
     "start_time": "2022-07-09T04:19:24.443049",
     "status": "completed"
    },
    "tags": []
   },
   "outputs": [],
   "source": [
    "#q2.hint()\n",
    "#q2.solution()"
   ]
  },
  {
   "cell_type": "markdown",
   "id": "c5b151f4",
   "metadata": {
    "papermill": {
     "duration": 0.005302,
     "end_time": "2022-07-09T04:19:24.468252",
     "exception": false,
     "start_time": "2022-07-09T04:19:24.462950",
     "status": "completed"
    },
    "tags": []
   },
   "source": [
    "## 3.\n",
    "Sometimes the price column is null. How many reviews in the dataset are missing a price?"
   ]
  },
  {
   "cell_type": "code",
   "execution_count": 6,
   "id": "74d94acc",
   "metadata": {
    "execution": {
     "iopub.execute_input": "2022-07-09T04:19:24.481618Z",
     "iopub.status.busy": "2022-07-09T04:19:24.480762Z",
     "iopub.status.idle": "2022-07-09T04:19:24.490723Z",
     "shell.execute_reply": "2022-07-09T04:19:24.489473Z"
    },
    "papermill": {
     "duration": 0.019333,
     "end_time": "2022-07-09T04:19:24.493145",
     "exception": false,
     "start_time": "2022-07-09T04:19:24.473812",
     "status": "completed"
    },
    "tags": []
   },
   "outputs": [
    {
     "data": {
      "application/javascript": [
       "parent.postMessage({\"jupyterEvent\": \"custom.exercise_interaction\", \"data\": {\"outcomeType\": 1, \"valueTowardsCompletion\": 0.25, \"interactionType\": 1, \"questionType\": 1, \"questionId\": \"3_CountMissingPrices\", \"learnToolsVersion\": \"0.3.4\", \"failureMessage\": \"\", \"exceptionClass\": \"\", \"trace\": \"\"}}, \"*\")"
      ],
      "text/plain": [
       "<IPython.core.display.Javascript object>"
      ]
     },
     "metadata": {},
     "output_type": "display_data"
    },
    {
     "data": {
      "text/markdown": [
       "<span style=\"color:#33cc33\">Correct</span>"
      ],
      "text/plain": [
       "Correct"
      ]
     },
     "metadata": {},
     "output_type": "display_data"
    }
   ],
   "source": [
    "n_missing_prices = n_missing_prices = pd.isnull(reviews.price).sum()\n",
    "\n",
    "# Check your answer\n",
    "q3.check()"
   ]
  },
  {
   "cell_type": "code",
   "execution_count": 7,
   "id": "d3afc407",
   "metadata": {
    "execution": {
     "iopub.execute_input": "2022-07-09T04:19:24.507069Z",
     "iopub.status.busy": "2022-07-09T04:19:24.506038Z",
     "iopub.status.idle": "2022-07-09T04:19:24.516345Z",
     "shell.execute_reply": "2022-07-09T04:19:24.515569Z"
    },
    "papermill": {
     "duration": 0.019656,
     "end_time": "2022-07-09T04:19:24.518646",
     "exception": false,
     "start_time": "2022-07-09T04:19:24.498990",
     "status": "completed"
    },
    "tags": []
   },
   "outputs": [
    {
     "data": {
      "application/javascript": [
       "parent.postMessage({\"jupyterEvent\": \"custom.exercise_interaction\", \"data\": {\"interactionType\": 2, \"questionType\": 1, \"questionId\": \"3_CountMissingPrices\", \"learnToolsVersion\": \"0.3.4\", \"valueTowardsCompletion\": 0.0, \"failureMessage\": \"\", \"exceptionClass\": \"\", \"trace\": \"\", \"outcomeType\": 4}}, \"*\")"
      ],
      "text/plain": [
       "<IPython.core.display.Javascript object>"
      ]
     },
     "metadata": {},
     "output_type": "display_data"
    },
    {
     "data": {
      "text/markdown": [
       "<span style=\"color:#3366cc\">Hint:</span> Use `pd.isnull()`."
      ],
      "text/plain": [
       "Hint: Use `pd.isnull()`."
      ]
     },
     "metadata": {},
     "output_type": "display_data"
    },
    {
     "data": {
      "application/javascript": [
       "parent.postMessage({\"jupyterEvent\": \"custom.exercise_interaction\", \"data\": {\"interactionType\": 3, \"questionType\": 1, \"questionId\": \"3_CountMissingPrices\", \"learnToolsVersion\": \"0.3.4\", \"valueTowardsCompletion\": 0.0, \"failureMessage\": \"\", \"exceptionClass\": \"\", \"trace\": \"\", \"outcomeType\": 4}}, \"*\")"
      ],
      "text/plain": [
       "<IPython.core.display.Javascript object>"
      ]
     },
     "metadata": {},
     "output_type": "display_data"
    },
    {
     "data": {
      "text/markdown": [
       "<span style=\"color:#33cc99\">Solution:</span> \n",
       "```python\n",
       "missing_price_reviews = reviews[reviews.price.isnull()]\n",
       "n_missing_prices = len(missing_price_reviews)\n",
       "# Cute alternative solution: if we sum a boolean series, True is treated as 1 and False as 0\n",
       "n_missing_prices = reviews.price.isnull().sum()\n",
       "# or equivalently:\n",
       "n_missing_prices = pd.isnull(reviews.price).sum()\n",
       "\n",
       "```"
      ],
      "text/plain": [
       "Solution: \n",
       "```python\n",
       "missing_price_reviews = reviews[reviews.price.isnull()]\n",
       "n_missing_prices = len(missing_price_reviews)\n",
       "# Cute alternative solution: if we sum a boolean series, True is treated as 1 and False as 0\n",
       "n_missing_prices = reviews.price.isnull().sum()\n",
       "# or equivalently:\n",
       "n_missing_prices = pd.isnull(reviews.price).sum()\n",
       "\n",
       "```"
      ]
     },
     "metadata": {},
     "output_type": "display_data"
    }
   ],
   "source": [
    "q3.hint()\n",
    "q3.solution()"
   ]
  },
  {
   "cell_type": "markdown",
   "id": "cfb91b0b",
   "metadata": {
    "papermill": {
     "duration": 0.006187,
     "end_time": "2022-07-09T04:19:24.531080",
     "exception": false,
     "start_time": "2022-07-09T04:19:24.524893",
     "status": "completed"
    },
    "tags": []
   },
   "source": [
    "## 4.\n",
    "What are the most common wine-producing regions? Create a Series counting the number of times each value occurs in the `region_1` field. This field is often missing data, so replace missing values with `Unknown`. Sort in descending order.  Your output should look something like this:\n",
    "\n",
    "```\n",
    "Unknown                    21247\n",
    "Napa Valley                 4480\n",
    "                           ...  \n",
    "Bardolino Superiore            1\n",
    "Primitivo del Tarantino        1\n",
    "Name: region_1, Length: 1230, dtype: int64\n",
    "```"
   ]
  },
  {
   "cell_type": "code",
   "execution_count": 8,
   "id": "9ea84a79",
   "metadata": {
    "execution": {
     "iopub.execute_input": "2022-07-09T04:19:24.545719Z",
     "iopub.status.busy": "2022-07-09T04:19:24.545072Z",
     "iopub.status.idle": "2022-07-09T04:19:24.620021Z",
     "shell.execute_reply": "2022-07-09T04:19:24.618931Z"
    },
    "papermill": {
     "duration": 0.085044,
     "end_time": "2022-07-09T04:19:24.622425",
     "exception": false,
     "start_time": "2022-07-09T04:19:24.537381",
     "status": "completed"
    },
    "tags": []
   },
   "outputs": [
    {
     "data": {
      "application/javascript": [
       "parent.postMessage({\"jupyterEvent\": \"custom.exercise_interaction\", \"data\": {\"outcomeType\": 1, \"valueTowardsCompletion\": 0.25, \"interactionType\": 1, \"questionType\": 2, \"questionId\": \"4_ReviewsPerRegion\", \"learnToolsVersion\": \"0.3.4\", \"failureMessage\": \"\", \"exceptionClass\": \"\", \"trace\": \"\"}}, \"*\")"
      ],
      "text/plain": [
       "<IPython.core.display.Javascript object>"
      ]
     },
     "metadata": {},
     "output_type": "display_data"
    },
    {
     "data": {
      "text/markdown": [
       "<span style=\"color:#33cc33\">Correct</span>"
      ],
      "text/plain": [
       "Correct"
      ]
     },
     "metadata": {},
     "output_type": "display_data"
    }
   ],
   "source": [
    "reviews_per_region = reviews.region_1.fillna('Unknown').value_counts().sort_values(ascending=False)\n",
    "# Check your answer\n",
    "q4.check()"
   ]
  },
  {
   "cell_type": "code",
   "execution_count": 9,
   "id": "c1845935",
   "metadata": {
    "execution": {
     "iopub.execute_input": "2022-07-09T04:19:24.637723Z",
     "iopub.status.busy": "2022-07-09T04:19:24.637306Z",
     "iopub.status.idle": "2022-07-09T04:19:24.649921Z",
     "shell.execute_reply": "2022-07-09T04:19:24.648623Z"
    },
    "papermill": {
     "duration": 0.023231,
     "end_time": "2022-07-09T04:19:24.652484",
     "exception": false,
     "start_time": "2022-07-09T04:19:24.629253",
     "status": "completed"
    },
    "tags": []
   },
   "outputs": [
    {
     "data": {
      "application/javascript": [
       "parent.postMessage({\"jupyterEvent\": \"custom.exercise_interaction\", \"data\": {\"interactionType\": 2, \"questionType\": 2, \"questionId\": \"4_ReviewsPerRegion\", \"learnToolsVersion\": \"0.3.4\", \"valueTowardsCompletion\": 0.0, \"failureMessage\": \"\", \"exceptionClass\": \"\", \"trace\": \"\", \"outcomeType\": 4}}, \"*\")"
      ],
      "text/plain": [
       "<IPython.core.display.Javascript object>"
      ]
     },
     "metadata": {},
     "output_type": "display_data"
    },
    {
     "data": {
      "text/markdown": [
       "<span style=\"color:#3366cc\">Hint:</span> Use `fillna()`, `value_counts()`, and `sort_values()`."
      ],
      "text/plain": [
       "Hint: Use `fillna()`, `value_counts()`, and `sort_values()`."
      ]
     },
     "metadata": {},
     "output_type": "display_data"
    },
    {
     "data": {
      "application/javascript": [
       "parent.postMessage({\"jupyterEvent\": \"custom.exercise_interaction\", \"data\": {\"interactionType\": 3, \"questionType\": 2, \"questionId\": \"4_ReviewsPerRegion\", \"learnToolsVersion\": \"0.3.4\", \"valueTowardsCompletion\": 0.0, \"failureMessage\": \"\", \"exceptionClass\": \"\", \"trace\": \"\", \"outcomeType\": 4}}, \"*\")"
      ],
      "text/plain": [
       "<IPython.core.display.Javascript object>"
      ]
     },
     "metadata": {},
     "output_type": "display_data"
    },
    {
     "data": {
      "text/markdown": [
       "<span style=\"color:#33cc99\">Solution:</span> \n",
       "```python\n",
       "reviews_per_region = reviews.region_1.fillna('Unknown').value_counts().sort_values(ascending=False)\n",
       "```"
      ],
      "text/plain": [
       "Solution: \n",
       "```python\n",
       "reviews_per_region = reviews.region_1.fillna('Unknown').value_counts().sort_values(ascending=False)\n",
       "```"
      ]
     },
     "metadata": {},
     "output_type": "display_data"
    }
   ],
   "source": [
    "q4.hint()\n",
    "q4.solution()"
   ]
  },
  {
   "cell_type": "markdown",
   "id": "73df9fe6",
   "metadata": {
    "papermill": {
     "duration": 0.006877,
     "end_time": "2022-07-09T04:19:24.666675",
     "exception": false,
     "start_time": "2022-07-09T04:19:24.659798",
     "status": "completed"
    },
    "tags": []
   },
   "source": [
    "# Keep going\n",
    "\n",
    "Move on to **[renaming and combining](https://www.kaggle.com/residentmario/renaming-and-combining)**."
   ]
  },
  {
   "cell_type": "markdown",
   "id": "f3a19c42",
   "metadata": {
    "papermill": {
     "duration": 0.006723,
     "end_time": "2022-07-09T04:19:24.680436",
     "exception": false,
     "start_time": "2022-07-09T04:19:24.673713",
     "status": "completed"
    },
    "tags": []
   },
   "source": [
    "---\n",
    "\n",
    "\n",
    "\n",
    "\n",
    "*Have questions or comments? Visit the [course discussion forum](https://www.kaggle.com/learn/pandas/discussion) to chat with other learners.*"
   ]
  }
 ],
 "metadata": {
  "kernelspec": {
   "display_name": "Python 3",
   "language": "python",
   "name": "python3"
  },
  "language_info": {
   "codemirror_mode": {
    "name": "ipython",
    "version": 3
   },
   "file_extension": ".py",
   "mimetype": "text/x-python",
   "name": "python",
   "nbconvert_exporter": "python",
   "pygments_lexer": "ipython3",
   "version": "3.7.12"
  },
  "papermill": {
   "default_parameters": {},
   "duration": 14.58348,
   "end_time": "2022-07-09T04:19:25.410161",
   "environment_variables": {},
   "exception": null,
   "input_path": "__notebook__.ipynb",
   "output_path": "__notebook__.ipynb",
   "parameters": {},
   "start_time": "2022-07-09T04:19:10.826681",
   "version": "2.3.4"
  }
 },
 "nbformat": 4,
 "nbformat_minor": 5
}
